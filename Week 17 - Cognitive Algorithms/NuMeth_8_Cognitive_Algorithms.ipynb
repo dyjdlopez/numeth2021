{
  "nbformat": 4,
  "nbformat_minor": 0,
  "metadata": {
    "colab": {
      "name": "NuMeth 8 - Cognitive Algorithms.ipynb",
      "provenance": [],
      "collapsed_sections": [],
      "authorship_tag": "ABX9TyNad/ryBBTW2b9RQwgRIbZ0",
      "include_colab_link": true
    },
    "kernelspec": {
      "name": "python3",
      "display_name": "Python 3"
    },
    "language_info": {
      "name": "python"
    }
  },
  "cells": [
    {
      "cell_type": "markdown",
      "metadata": {
        "id": "view-in-github",
        "colab_type": "text"
      },
      "source": [
        "<a href=\"https://colab.research.google.com/github/dyjdlopez/numeth2021/blob/main/Week%2017%20-%20Cognitive%20Algorithms/NuMeth_8_Cognitive_Algorithms.ipynb\" target=\"_parent\"><img src=\"https://colab.research.google.com/assets/colab-badge.svg\" alt=\"Open In Colab\"/></a>"
      ]
    },
    {
      "cell_type": "markdown",
      "metadata": {
        "id": "RZxcWkGrCqXR"
      },
      "source": [
        "# Cognitive Algorithms\n",
        "$_{\\text{©D.J. Lopez | 2021 | Computational Methods for Computer Engineers}}$\n",
        "\n",
        "In this module we will take optimization a bit further by considering non-linear equations and using statistical learning to optimize the parameters of an algorithm to fit to a function or data. We will be discussing about:\n",
        "* Machine Learning\n",
        "* Gradient Descent and The Perceptron\n",
        "* Linear Classification"
      ]
    },
    {
      "cell_type": "markdown",
      "metadata": {
        "id": "Qp685Rn8DPlR"
      },
      "source": [
        "## 8.1 Machine Learning\n",
        "\n",
        "The main difference between machine learning and traditional programming is the paradigm at which a solution is created.\n",
        "\n",
        "**Traditional Programming**\n",
        "\n",
        "In traditional programming or the usual way, when we code a solution we start with a set of given inputs and some set of rules we code so that when we run our program with the set of inputs we get some desirable output.\n",
        "\n",
        "**Machine Learning**\n",
        "\n",
        "In machine learning programming, we have a set of inputs and outputs and we try to find a way to determine a rule, pattern, or equation that will describe the relationship between the inputs and outputs.\n",
        "\n",
        "![image](https://www.googleapis.com/download/storage/v1/b/kaggle-user-content/o/inbox%2F2034058%2F27e3bdf0545d237a1672fc201481774d%2Fml.png?generation=1562172278272384&alt=media)<br>\n",
        "\n",
        "In this module, we will have a start with machine learning. We’ll learn about datasets and the learning algorithms that we can use to recognize patterns between datasets."
      ]
    },
    {
      "cell_type": "markdown",
      "metadata": {
        "id": "tR1q6mtSDyGX"
      },
      "source": [
        "## 8.2 Gradient Descent\n",
        "\n",
        "Diving deeper into the Machine Learning rabbit hole, we need to discuss the fundamental technique in machine learning—Gradient Descent. Gradient descent is an optimization algorithm used to minimize functions by iteratively moving in the direction of the steepest descent as defined by the negative of the gradient. In machine learning, gradient descent is used to update the parameters of models. In this section, we'll try to apply this algorithm with the fundamental unit of a neural network—the Perceptron."
      ]
    },
    {
      "cell_type": "markdown",
      "metadata": {
        "id": "oqW-v9x1EGcf"
      },
      "source": [
        "### 8.2.2 The Perceptron Algorithm\n",
        "The Perceptron was first conceptualized by Frank Rosenblatt in his paper [The Perceptron: A Probabilistic Model for Information Storage and Organization in the Brain](https://citeseerx.ist.psu.edu/viewdoc/download?doi=10.1.1.335.3398&rep=rep1&type=pdf) in 1958. The perceptron is one of the earliest mathematical conceptualization of a brain neuron. In simplest terms, a perceptron does a weighted sum of all inputs and then performs an activation. In the early implementations of the perceptron the activation used was a step function described as:\n",
        "\n",
        "$$Y = \\text{step}(\\omega X + b) \\\\ _{\\text{(Eq. 8.1)}}$$\n",
        "\n",
        "![image](https://jontysinai.github.io/assets/article_images/2017-11-11-the-perceptron/bio-vs-MCP.png)"
      ]
    },
    {
      "cell_type": "markdown",
      "metadata": {
        "id": "xhgtDteMFtMY"
      },
      "source": [
        "#### Dataset\n",
        "Since Machine Learning is statistical-based or data-driven, a dataset should be fed to our model to \"learn\" from example. This type of machine learning is called **supervised machine learning**."
      ]
    },
    {
      "cell_type": "code",
      "metadata": {
        "id": "t1HLq-RcMLp5"
      },
      "source": [
        "import numpy as np\n",
        "import matplotlib.pyplot as plt\n",
        "import seaborn as sns"
      ],
      "execution_count": 31,
      "outputs": []
    },
    {
      "cell_type": "code",
      "metadata": {
        "id": "Uad5veRaCLBI"
      },
      "source": [
        "N = 100\n",
        "m1 = np.array([-2, 0]).T\n",
        "m2 = np.array([2, 0]).T\n",
        "S = np.identity(2)"
      ],
      "execution_count": 2,
      "outputs": []
    },
    {
      "cell_type": "markdown",
      "metadata": {
        "id": "z1JWznrUHB_H"
      },
      "source": [
        "In this cell, $N$ represents the population of the dataset. Since we will make 2D gaussian datasets we need to set the centroid which is also the mean the gaussian distribution, it is represented as $m_i$. In this exaple, we have $m_1$ and $m_2$ representing the centroids of two distinct datasets. $S$ represents the covariance matrix, it pertains to the alignment and skewness of the dataset."
      ]
    },
    {
      "cell_type": "code",
      "metadata": {
        "id": "__oZ8YlyHBW4"
      },
      "source": [
        "## Creating a Training Set\n",
        "np.random.seed(0)\n",
        "X_train = np.array([np.random.multivariate_normal(m1,S,int(N/2)),np.random.multivariate_normal(m2,S,int(N-(N/2)))]).T\n",
        "y_train = np.array([np.ones(int(N/2)), np.zeros(int(N-(N/2)))]).reshape((-1,1))\n",
        "X_train = np.concatenate((X_train[0], X_train[1]), axis=0)"
      ],
      "execution_count": 3,
      "outputs": []
    },
    {
      "cell_type": "code",
      "metadata": {
        "id": "znte2hU5MW6w"
      },
      "source": [
        "## Creating a Testing Set\n",
        "np.random.seed(0)\n",
        "M = N*0.2\n",
        "X_test = np.array([np.random.multivariate_normal(m1,S,int(M/2)),np.random.multivariate_normal(m2,S,int(M-(M/2)))]).T\n",
        "X_test = np.concatenate((X_test[0], X_test[1]), axis=0)\n",
        "y_test = np.array([np.ones(int(M/2)), np.zeros(int(M-(M/2)))]).reshape((-1,1))"
      ],
      "execution_count": 18,
      "outputs": []
    },
    {
      "cell_type": "code",
      "metadata": {
        "id": "pYMpwY0uMcPs"
      },
      "source": [
        "## Create a Data Visualization Function\n",
        "def visualize(X):\n",
        "  plt.figure(figsize=(8,8))\n",
        "  mid = int(X.shape[0]/2)\n",
        "  plt.scatter(X[:mid,0], X[:mid,1], c='r', label='Class 1')\n",
        "  plt.scatter(X[mid:,0], X[mid:,1], c='b', label='Class 0')\n",
        "\n",
        "  plt.legend()\n",
        "  plt.grid()\n",
        "  plt.show()\n"
      ],
      "execution_count": 15,
      "outputs": []
    },
    {
      "cell_type": "code",
      "metadata": {
        "colab": {
          "base_uri": "https://localhost:8080/",
          "height": 949
        },
        "id": "CX4n1n-3Mmps",
        "outputId": "a988a3e5-ee4d-4d45-f2a1-84618b6447b8"
      },
      "source": [
        "visualize(X_train)\n",
        "visualize(X_test)"
      ],
      "execution_count": 19,
      "outputs": [
        {
          "output_type": "display_data",
          "data": {
            "image/png": "[encoded data removed]",
            "text/plain": [
              "<Figure size 576x576 with 1 Axes>"
            ]
          },
          "metadata": {
            "tags": [],
            "needs_background": "light"
          }
        },
        {
          "output_type": "display_data",
          "data": {
            "image/png": "[encoded data removed]",
            "text/plain": [
              "<Figure size 576x576 with 1 Axes>"
            ]
          },
          "metadata": {
            "tags": [],
            "needs_background": "light"
          }
        }
      ]
    },
    {
      "cell_type": "markdown",
      "metadata": {
        "id": "KkAw1U9TOJEb"
      },
      "source": [
        "Gradient descent is an optimization algorithm that's used in training a machine learning model. It's based on a convex function and adjust its weights/parameters iteratively to optimize a given function.\n",
        "\n",
        "You start gradient descent by defining the initial wieights and from there gradient descent uses derivatives to iteratively adjust the values so they optimize the given cost-function or loss function. "
      ]
    },
    {
      "cell_type": "code",
      "metadata": {
        "id": "wlAy2UmeMyiL"
      },
      "source": [
        "## Weight Initialization\n",
        "def init_weights(dim):\n",
        "  \"\"\"\n",
        "  Does a zero-initialization of the weights and bias\n",
        "\n",
        "  Arguments:\n",
        "  dim -- Desired dimension for the weights.\n",
        "\n",
        "  Return:\n",
        "  w -- initialized weights\n",
        "  b -- initilaized bias\n",
        "  \"\"\"\n",
        "  w = np.zeros(shape=(dim,1))\n",
        "  b = 0\n",
        "  return w, b"
      ],
      "execution_count": 20,
      "outputs": []
    },
    {
      "cell_type": "markdown",
      "metadata": {
        "id": "EnLNI0zVPmxs"
      },
      "source": [
        "#### Loss Function\n",
        "A Loss Functions tells us “how good” our model is at making predictions for a given set of parameters. In our example we will be implementing SSE for the loss function:\n",
        "$$\\frac{1}{N}\\sum^n_{i=0}(y_n-y^*_n)^2\\\\ _{\\text{(Eq. 8.2)}}$$\n",
        "Whereas $N$ is the population of the dataset, $y_n$ is the groud truth for the dataset and $y^*_n$ is the predicated value at the given input."
      ]
    },
    {
      "cell_type": "code",
      "metadata": {
        "id": "55lNChe5O3re"
      },
      "source": [
        "## The error function aka loss function. We are trying to minimize the \n",
        "## error of the model.\n",
        "def sum_err(preds,y):\n",
        "  \"\"\"\n",
        "  Computes the Sum of Squared Errors for a set of predictions\n",
        "  and truth values\n",
        "\n",
        "  Arguments:\n",
        "  preds -- Set of predictions.\n",
        "  y -- Set of truth values\n",
        "\n",
        "  Return:\n",
        "  sse -- Sum of the squared errors\n",
        "  \"\"\"\n",
        "  sse = np.sum(np.square(y-preds))\n",
        "  return sse\n"
      ],
      "execution_count": 21,
      "outputs": []
    },
    {
      "cell_type": "code",
      "metadata": {
        "id": "w3XiXHGwP5ru"
      },
      "source": [
        "def accuracy(preds, Y):\n",
        "  \"\"\"\n",
        "  Computes the accuracy for a set of predictions\n",
        "  and truth values\n",
        "\n",
        "  Arguments:\n",
        "  preds -- Set of predictions.\n",
        "  y -- Set of truth values\n",
        "\n",
        "  Return:\n",
        "  accuracy -- Computed accuracy\n",
        "  \"\"\"\n",
        "  accuracy = 1-np.mean(np.abs(preds-Y))\n",
        "  return accuracy"
      ],
      "execution_count": 22,
      "outputs": []
    },
    {
      "cell_type": "markdown",
      "metadata": {
        "id": "2k1tR0JiSgLB"
      },
      "source": [
        "#### Activation Function\n",
        "An activation maps the value of a perceptron. This differs the perceptron with a regular linear regressor. In our case, the activation is a **step function**. The step function can be defined as: \n",
        "$$step(z) = \\left\\{\n",
        "  \\begin{array}\\\\\n",
        "    1 \\text{ if } \\ b+ \\sum w_iX_n\\geq 0 \\\\\n",
        "    0 \\text{ otherwise}\n",
        "    \\end{array}\n",
        "\\right. \\\\ _{\\text{(Eq. 8.3)}}\n",
        "$$\n",
        "Whereas $z$ is the linear regressor part of the perceptron computed as $b+ wX$."
      ]
    },
    {
      "cell_type": "code",
      "metadata": {
        "id": "hTOP5o-8UocF"
      },
      "source": [
        "def step_activation(z):\n",
        "  \"\"\"\n",
        "  Compute the step activation of z\n",
        "\n",
        "  Arguments:\n",
        "  z -- A scalar or numpy array of any size.\n",
        "\n",
        "  Return:\n",
        "  filtered step activations step(z)\n",
        "  \"\"\"\n",
        "  return np.where(z>=0, 1,0)"
      ],
      "execution_count": 23,
      "outputs": []
    },
    {
      "cell_type": "markdown",
      "metadata": {
        "id": "213GMm4IRlOL"
      },
      "source": [
        "#### Gradient\n",
        "\n",
        "A gradient is the change in all weights with respect to the change in error. You can think that a gradient as the slope of a function. The higher the gradient, the steeper the slope and the faster a model can learn. But if the slope is zero, the model stops learning. \n",
        "\n",
        "To solve for the gradient, we iterate through our data points using our new m and b values and compute the partial derivatives. This new gradient tells us the slope of our cost function at our current position (current parameter values) and the direction we should move to update our parameters. The size of our update is controlled by the learning rate."
      ]
    },
    {
      "cell_type": "code",
      "metadata": {
        "id": "UuSD1am7P6Jq"
      },
      "source": [
        "def propagate(X,y,w,b):\n",
        "\n",
        "  # Compute for the transformed vector of the \n",
        "  # dataset w.r.t the weights and biases\n",
        "  z = (X@w) + b\n",
        "\n",
        "  # Compute for the step activation\n",
        "  A = step_activation(z)\n",
        "\n",
        "  # Compute for the prediction error\n",
        "  error = A-y\n",
        "  acc = accuracy(y,A)\n",
        "\n",
        "  # Update the weights and biases\n",
        "  # Learning/Update routine\n",
        "  w = np.dot(X.T,error)\n",
        "  b = np.sum(error)\n",
        "\n",
        "  # Compute the cost\n",
        "  cost = sum_err(A,y)\n",
        "\n",
        "  # Store the parameters in a dictionary for tracking\n",
        "  grads = {\"dw\": w,\n",
        "           \"db\": b}\n",
        "  \n",
        "  return grads, cost, acc"
      ],
      "execution_count": 24,
      "outputs": []
    },
    {
      "cell_type": "code",
      "metadata": {
        "colab": {
          "base_uri": "https://localhost:8080/"
        },
        "id": "8Ju_jyPXU2YK",
        "outputId": "919e3f0b-6192-43ce-e78f-31187dc4e8ad"
      },
      "source": [
        "w,b = init_weights(X_train.shape[1])\n",
        "propagate(X_train,y_train,w,b)"
      ],
      "execution_count": 25,
      "outputs": [
        {
          "output_type": "execute_result",
          "data": {
            "text/plain": [
              "({'db': 50.0, 'dw': array([[5.14049338],\n",
              "         [9.13737342]])}, 50.0, 0.5)"
            ]
          },
          "metadata": {
            "tags": []
          },
          "execution_count": 25
        }
      ]
    },
    {
      "cell_type": "code",
      "metadata": {
        "id": "ZJguIiL_U4XI"
      },
      "source": [
        "## Training function\n",
        "def train(w, b, X, y, lr, epochs, early_stopping=True, stop_thresh=0.9):\n",
        "  costs = []\n",
        "  accuracies = []\n",
        "\n",
        "  for i in range(epochs):\n",
        "    # Do a forward propagation to obtain the gradients\n",
        "    grads, cost, accuracy = propagate(X,y,w,b)\n",
        "\n",
        "    # Locally store the gradients    \n",
        "    dw=grads['dw']\n",
        "    db=grads['db']\n",
        "\n",
        "    # Update routine per epoch\n",
        "    w = w - lr*dw\n",
        "    b = b - lr*db\n",
        "\n",
        "    # Store the costs per epoch for logs      \n",
        "    \n",
        "    if i % 20 == 0:\n",
        "      print (f\"Epoch {i}: Loss: {cost} Accuracy: {accuracy}\")\n",
        "      costs.append(cost)\n",
        "      accuracies.append(accuracy)\n",
        "\n",
        "    # Store the learned parameters for logs\n",
        "    params = {\"w\": w,\n",
        "              \"b\": b}\n",
        "    \n",
        "    grads = {\"dw\": dw,\n",
        "             \"db\": db}\n",
        "    if early_stopping and accuracy >= stop_thresh:\n",
        "      print(f\"Target metric met, stopping the training at {i} epoch(s).\\n\")\n",
        "      break\n",
        "\n",
        "  return params, grads, costs"
      ],
      "execution_count": 26,
      "outputs": []
    },
    {
      "cell_type": "code",
      "metadata": {
        "colab": {
          "base_uri": "https://localhost:8080/"
        },
        "id": "XpA4HicpU_Wj",
        "outputId": "d8cd3dc9-dda5-4ae7-c18f-fb9962cf473d"
      },
      "source": [
        "### Running the machine learning training\n",
        "w,b = init_weights(X_train.shape[1])\n",
        "learning_rate = 1\n",
        "epochs = 100\n",
        "\n",
        "params, grads, costs = train(w, b, X_train, y_train, \n",
        "                             lr=learning_rate, epochs=epochs, \n",
        "                             early_stopping=True, stop_thresh=1.0)\n",
        "\n",
        "print (\"w = \" + str(params[\"w\"]))\n",
        "print (\"b = \" + str(params[\"b\"]))\n",
        "print (\"dw = \" + str(grads[\"dw\"]))\n",
        "print (\"db = \" + str(grads[\"db\"]))"
      ],
      "execution_count": 27,
      "outputs": [
        {
          "output_type": "stream",
          "text": [
            "Epoch 0: Loss: 50.0 Accuracy: 0.5\n",
            "Epoch 20: Loss: 8.0 Accuracy: 0.92\n",
            "Epoch 40: Loss: 6.0 Accuracy: 0.94\n",
            "Epoch 60: Loss: 11.0 Accuracy: 0.89\n",
            "Epoch 80: Loss: 16.0 Accuracy: 0.84\n",
            "w = [[-14.03301621]\n",
            " [ 14.90592208]]\n",
            "b = -25.0\n",
            "dw = [[ 1.96685423]\n",
            " [-2.95259353]]\n",
            "db = -4.0\n"
          ],
          "name": "stdout"
        }
      ]
    },
    {
      "cell_type": "code",
      "metadata": {
        "id": "Zpa8Bk5jVGDr"
      },
      "source": [
        "def predict(X, weights, bias):\n",
        "  z = (X@weights)+bias\n",
        "  return np.where(z>=0, 1,0)\n"
      ],
      "execution_count": 28,
      "outputs": []
    },
    {
      "cell_type": "code",
      "metadata": {
        "colab": {
          "base_uri": "https://localhost:8080/"
        },
        "id": "LNrOp1DqVPAa",
        "outputId": "4438297d-7fee-4a27-815b-0d0714c942a3"
      },
      "source": [
        "## Testing out the test set\n",
        "weights = params[\"w\"]\n",
        "bias = params[\"b\"]\n",
        "preds = predict(X_test,weights,bias)\n",
        "accuracy(y_test, preds)"
      ],
      "execution_count": 29,
      "outputs": [
        {
          "output_type": "execute_result",
          "data": {
            "text/plain": [
              "0.95"
            ]
          },
          "metadata": {
            "tags": []
          },
          "execution_count": 29
        }
      ]
    },
    {
      "cell_type": "markdown",
      "metadata": {
        "id": "6k-APSXKVUxg"
      },
      "source": [
        "#### Machine Learning Model Performance\n",
        "There are several ways to determine the success of a machine learning model. We will learn about this in the Machine Learning Elective. But just to get the main idea how effective an ML model is, we use a confusion matrix to see the frequency of detections with respect to the groud truth"
      ]
    },
    {
      "cell_type": "code",
      "metadata": {
        "colab": {
          "base_uri": "https://localhost:8080/",
          "height": 283
        },
        "id": "VqUxkWZiVSaU",
        "outputId": "04d671ca-7c16-440b-cc45-3cc71853585d"
      },
      "source": [
        "from sklearn.metrics import confusion_matrix\n",
        "\n",
        "c_matrix = confusion_matrix(y_test, preds)\n",
        "sns.heatmap(c_matrix, annot=True)\n",
        "plt.xlabel(\"Ground Truths\")\n",
        "plt.ylabel(\"Predicted\")\n",
        "plt.show()"
      ],
      "execution_count": 32,
      "outputs": [
        {
          "output_type": "display_data",
          "data": {
            "image/png": "[encoded data removed]",
            "text/plain": [
              "<Figure size 432x288 with 2 Axes>"
            ]
          },
          "metadata": {
            "tags": [],
            "needs_background": "light"
          }
        }
      ]
    },
    {
      "cell_type": "code",
      "metadata": {
        "id": "VIuN9QPbWfnY"
      },
      "source": [
        "def plot_weights(X,w,b):\n",
        "  plt.figure(figsize=(10,10))\n",
        "  plt.scatter(X[:int(X.shape[0]/2),0], X[:int(X.shape[0]/2),1], \n",
        "              s = 50, color='blue', alpha=0.5, label=1)\n",
        "  plt.scatter(X[int(X.shape[0]/2):,0], X[int(X.shape[0]/2):,1],  \n",
        "              s = 50, color='red', alpha=0.5, label=0)\n",
        "  x_min, x_max = X[:,0].min() - 1, X[:,0].max() + 1\n",
        "  linex = np.linspace(x_min, x_max)\n",
        "  liney = -w[0]/w[1] * linex - b/w[1]\n",
        "  plt.plot(linex, liney, label='decision bounday')\n",
        "  plt.legend()\n",
        "  plt.axhline(color='black')\n",
        "  plt.axvline(color='black')\n",
        "  plt.grid()\n",
        "  plt.show()"
      ],
      "execution_count": 33,
      "outputs": []
    },
    {
      "cell_type": "code",
      "metadata": {
        "colab": {
          "base_uri": "https://localhost:8080/",
          "height": 592
        },
        "id": "k64aUpdBWgUo",
        "outputId": "248bd350-2dcc-4873-ffa9-673887438888"
      },
      "source": [
        "plot_weights(X_train,params['w'],params['b'])"
      ],
      "execution_count": 34,
      "outputs": [
        {
          "output_type": "display_data",
          "data": {
            "image/png": "[encoded data removed]",
            "text/plain": [
              "<Figure size 720x720 with 1 Axes>"
            ]
          },
          "metadata": {
            "tags": [],
            "needs_background": "light"
          }
        }
      ]
    }
  ]
}
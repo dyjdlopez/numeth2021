{
  "nbformat": 4,
  "nbformat_minor": 0,
  "metadata": {
    "colab": {
      "name": "NuMeth 3- System of Linear Equations.ipynb",
      "provenance": [],
      "collapsed_sections": [],
      "authorship_tag": "ABX9TyMqMCnAskRDdUQtvOPZseDf",
      "include_colab_link": true
    },
    "kernelspec": {
      "name": "python3",
      "display_name": "Python 3"
    }
  },
  "cells": [
    {
      "cell_type": "markdown",
      "metadata": {
        "id": "view-in-github",
        "colab_type": "text"
      },
      "source": [
        "<a href=\"https://colab.research.google.com/github/dyjdlopez/numeth2021/blob/main/Week%207-9%20-%20Solving%20System%20of%20Linear%20Equations/NuMeth_3_System_of_Linear_Equations.ipynb\" target=\"_parent\"><img src=\"https://colab.research.google.com/assets/colab-badge.svg\" alt=\"Open In Colab\"/></a>"
      ]
    },
    {
      "cell_type": "markdown",
      "metadata": {
        "id": "pmwtuuOZ-40s"
      },
      "source": [
        "# System of Linear Equations\n",
        "$_{\\text{©D.J. Lopez | 2021 | Computational Methods for Computer Engineers}}$\n",
        "\n",
        "Another fundamental engineering computational technique is solving a system of linear equations. Linear systems are very much prevalent in engineering and computational modeling, and solving them is very crucial in analyzing and operating these systems. Solving systems of linear equations are useful in several practices such as optimization. Some non-engineering applications include finance, computer programming, geometry, etc. The coverage of the module is as follows:\n",
        "* Review of System of Linear Equations\n",
        "* Gaussian Elimintation\n",
        "* Gauss-Jordan Elimination\n",
        "* Cramer's Rule\n",
        "* Cholesky's LU Decomposition\n",
        "* Jacobi Method\n",
        "* Gauss-Siedel Method \n",
        "* Successive over-relaxation (SOR) Method\n",
        "* Python Functions for Roots\n",
        "* Applications of Root-finding"
      ]
    },
    {
      "cell_type": "markdown",
      "metadata": {
        "id": "k_C7E7qJAy7K"
      },
      "source": [
        "## 3.1 Looking back at Systems of Linear Equations\n",
        "\n",
        "A linear equation is described as an equation that has a scalar gradient. Or simply, it is an equation that produces a line when visualized. Formally,a  linear equation in $n$ (unknown) variables $x_1, ... , x_n$ has the form [[1]](https://mandal.ku.edu/math290/FTwelveM290/chpterOne.pdf):\n",
        "$$a_1x_1 + a_2x_2 + ... + a_nx_n = b \n",
        "\\\\ _{\\text{(Eq. 3.1.1)}}$$\n",
        "Whereas, $a_1, a_2,\\dots,a_n,b$ are real where specifically $b$ is the constant term  and $a$ is the coefficient of $x_i$.\n",
        "\n",
        "And such, a system of these equations tell us that they are somewhat related or ar relevant for a specific scenario, event, or environment. Thus formally, $y$ a System of Linear Equations in n variables $x_1, x_2, ... , x_n$ we mean a collection of linear equations in these variables. A system of $m$ linear equations in these $n$ variables can be written as:\n",
        "\n",
        "$$\\left\\{\n",
        "    \\begin{array}\\\\\n",
        "        a_{11}x_1 + a_{12}x_2 + ... + a_{1n}x_n = b_1\\\\ \n",
        "        a_{21}x_1 + a_{22}x_2 + ... + a_{2n}x_n = b_2\\\\\n",
        "        a_{31}x_1 + a_{32}x_2 + ... + a_{3n}x_n = b_3\\\\\n",
        "        \\vdots \\\\\n",
        "        a_{m1}x_1 + a_{m2}x_2 + ... + a_{mn}x_n = b_m\\\\\n",
        "    \\end{array}\n",
        "\\right.\n",
        "\\\\ _{\\text{(Eq. 3.1.2)}}$$\n",
        "Whereas $a_{ij}$ and $b_i$ are all real numbers.\n",
        "\n",
        "If you can recall form Linear Algebra, Eq. 3.1.2 can be represented in augmented matrix form as: \n",
        "$$\\left[\\begin{array}{cccc|c}\n",
        "a_{11}&a_{12}&\\dots&a_{1n}&b_1\\\\\n",
        "a_{21}&a_{22}&\\dots&a_{2n}&b_2\\\\\n",
        "a_{31}&a_{32}&\\dots&a_{3n}&b_3\\\\\n",
        "\\vdots&\\vdots&\\ddots&\\vdots&\\vdots\\\\\n",
        "a_{m1}&a_{m2}&\\dots&a_{mn}&b_m\n",
        "\\end{array}\\right] \\\\ _{\\text{(Eq. 3.1.3)}}$$\n",
        "Or in linear combination matrix form:\n",
        "$$\\begin{bmatrix}\n",
        "a_{11}&a_{12}&\\dots&a_{1n}\\\\\n",
        "a_{21}&a_{22}&\\dots&a_{2n}\\\\\n",
        "a_{31}&a_{32}&\\dots&a_{3n}\\\\\n",
        "\\vdots&\\vdots&\\ddots&\\vdots\\\\\n",
        "a_{m1}&a_{m2}&\\dots&a_{mn}\n",
        "\\end{bmatrix} \\cdot\n",
        "\\begin{bmatrix}x_1\\\\x_2\\\\x_3\\\\\\vdots\\\\x_n\\end{bmatrix}=\n",
        "\\begin{bmatrix}b_1\\\\b_2\\\\b_3\\\\\\vdots\\\\b_m\\end{bmatrix}\n",
        "\\\\ _{\\text{(Eq. 3.1.4)}}$$"
      ]
    },
    {
      "cell_type": "markdown",
      "metadata": {
        "id": "Eb5N8gm0Jk4E"
      },
      "source": [
        "### **Classifications of Linear Systems**\n",
        "\n",
        "Given a linear system in $n$ variables, precisely on the the following three is true [1]:\n",
        "* The system has **exactly one** solution (consistent system) — Geometrically, solution given by precisely the point where the graphs\n",
        "(two lines) of these two equations meet.\n",
        "* The system has **infinitely many** solutions (consistent system).\n",
        "* The system has **NO** solution (inconsistent system) — Geometrically, these two equations in the system represent two parallel lines (they never meet).\n",
        "\n",
        "Another classification exists for linear systems wherein:\n",
        "$$b_1=b_2=\\dots=b_m=0 \\\\ _{\\text{(Eq. 3.1.5)}}$$\n",
        "Which signifies the linear system is a **homogeneous linear system**.\n"
      ]
    },
    {
      "cell_type": "markdown",
      "metadata": {
        "id": "7Y3z7asyND8s"
      },
      "source": [
        "### **Computational Methods**\n",
        "There are two types of computational methods in solving linear systems:\n",
        "\n",
        "* **Elimination Methods** - which eliminates parts of the coefficients matrix by means of elementary row and column operations in order to reach a form that yields the solution by simple calculations. Also known as direct method.\n",
        "* **Iterative Methods** - where equations are rearranged in a way that enables recursive calculations of values until convergence."
      ]
    },
    {
      "cell_type": "markdown",
      "metadata": {
        "id": "VyH6BOT2K_aM"
      },
      "source": [
        "Now that you have a review on linear systems, we can now get started with solving them using computational methods."
      ]
    },
    {
      "cell_type": "code",
      "metadata": {
        "id": "jAnTIMT-JzS3"
      },
      "source": [
        "import numpy as np\n",
        "\n",
        "test_systems = {\n",
        "    'test1': {\n",
        "        'X': np.array([\n",
        "                        [2, 7, -1, 3, 1],\n",
        "                        [2, 3, 4, 1, 7],\n",
        "                        [6, 2, -3, 2, -1],\n",
        "                        [2, 1, 2, -1, 2],\n",
        "                        [3, 4, 1, -2, 1]],float),\n",
        "        'b': np.array([5, 7, 2, 3, 4], float),\n",
        "        'ans': np.array([0.444, 0.556, 0.667, 0.222, 0.222], float)\n",
        "    },\n",
        "    'test2': {\n",
        "        'X': np.array([\n",
        "                        [0, 7, -1, 3, 1],\n",
        "                        [2, 3, 4, 1, 7],\n",
        "                        [6, 2, 0, 2, -1],\n",
        "                        [2, 1, 2, 0, 2],\n",
        "                        [3, 4, 1, -2, 1]],float),\n",
        "        'b': np.array([5, 7, 2, 3, 4], float),\n",
        "        'ans': np.array([0.021705, 0.792248, 1.051163, 0.158140, 0.031008], float)\n",
        "},\n",
        "'test3': {\n",
        "        'X': np.array([\n",
        "                        [2, -1, 5, 1],\n",
        "                        [3, 2, 2, -6],\n",
        "                        [1, 3, 3, -1],\n",
        "                        [5, -2, -3, 3]],float),\n",
        "        'b': np.array([5, 7, 2, 3, 4], float),\n",
        "        'ans': np.array([2.0, -12.0, -4.0, 1.0], float)\n",
        "},\n",
        "'test4': {\n",
        "        'X': np.array([\n",
        "                        [8.00, 3.22, 0.80, 0.00, 4.10],\n",
        "                        [3.22, 7.76, 2.33, 1.91, -1.03],\n",
        "                        [0.80, 2.33, 5.25, 1.00, 3.02],\n",
        "                        [0.00, 1.91, 1.00, 7.50, 1.03],\n",
        "                        [4.10, -1.03, 3.02, 1.03, 6.44]],float),\n",
        "        'b': np.array([9.45, -12.2, 7.78, -8.10, 10.0], float),\n",
        "        'ans': np.array([2.0, -12.0, -4.0, 1.0], float)\n",
        "}}"
      ],
      "execution_count": null,
      "outputs": []
    },
    {
      "cell_type": "markdown",
      "metadata": {
        "id": "Q564wD4cJ26q"
      },
      "source": [
        "## 3.2 Gaussian Elimination\n",
        "The first method we will learn is the Gaussian Elimination. The goal of the Gaussian Elimination method is to reduce the linear system to its row-echelon form using basic or elementary row operations. Gaussian Elimination consists two stages: \n",
        "* Elimination of the elements under the main diagonal of the coefficients matrix; and\n",
        "* Back-substitution of the solved unknowns until all system is solved.\n"
      ]
    },
    {
      "cell_type": "code",
      "metadata": {
        "id": "iBtdBau1bIIR"
      },
      "source": [
        "X = test_systems['test2']['X']\n",
        "b = test_systems['test2']['b']\n",
        "n = b.size\n",
        "v = np.empty(n)"
      ],
      "execution_count": null,
      "outputs": []
    },
    {
      "cell_type": "markdown",
      "metadata": {
        "id": "t2HlC1L_Z0YG"
      },
      "source": [
        "### Elimination\n",
        "1. Loop of $k$ from $1$ to $n-1$ to index the fixed rows and eliminated columns\n",
        "2. Loop of $i$ from $k+1$ to $n$ to index the subtracted rows\n",
        "3. Loop of $j$ from $k$ to $n$ to index the columns for element subtraction the elimination statement using Eq. 3.2.1 and 3.2.2.\n",
        "$$x_{ij} = x_{kj} - \\frac{x_{kk}}{x_{ik}}x_{ij} \\\\ _{\\text{(Eq. 3.2.1)}}$$\n",
        "$$b_i = b_k - \\frac{x_{kk}}{x_{ik}}b_i \\\\ _{\\text{(Eq. 3.2.2)}}$$"
      ]
    },
    {
      "cell_type": "code",
      "metadata": {
        "id": "9rJsipy8L9It"
      },
      "source": [
        "for k in range(n-1):\n",
        "    if X[k, k] == 0:\n",
        "        for j in range (n):\n",
        "            X[k,j], X[k+1, j] = X[k+1, j], X[k,j]\n",
        "        b[k], b[k+1] = b[k+1], b[k]\n",
        "    for i in range(k+1, n):\n",
        "        if X[i, k] == 0: continue\n",
        "        fctr = X[k, k] / X[i, k]\n",
        "        b[i] = b[k] - fctr*b[i]\n",
        "        for j in range(k, n):\n",
        "            X[i, j] = X[k, j] - fctr*X[i, j]"
      ],
      "execution_count": null,
      "outputs": []
    },
    {
      "cell_type": "markdown",
      "metadata": {
        "id": "FUA2X7lraMWJ"
      },
      "source": [
        "### Back-substitution\n",
        "1. Starting with last row, let $v_n = \\frac{b_n}{a_{nn}}$.\n",
        "2. For rows from $i = n-1$ to $1$: substitute values of obtained for $v_i+1$ and compute the $v_i$ values of the current row. This can be expressed in the formula:\n",
        "$$v_i = \\frac{b_i - \\sum^n_{j=i+1}{a_{ij}v_j}}{a_{ii}} \\\\ _{\\text{(Eq. 3.2.3)}}$$"
      ]
    },
    {
      "cell_type": "code",
      "metadata": {
        "id": "J7P1kov-ZzFp",
        "colab": {
          "base_uri": "https://localhost:8080/"
        },
        "outputId": "769c30ae-1d97-4eaf-efb2-f9a8278d1766"
      },
      "source": [
        "v[n-1] = b[n-1] / X[n-1, n-1]\n",
        "for i in range(n-2, -1, -1):\n",
        "    terms = 0\n",
        "    for j in range(i+1, n):\n",
        "        terms += X[i, j]*v[j]\n",
        "    v[i] = (b[i] - terms)/X[i, i]\n",
        "print('The solution of the system:')\n",
        "print(v)\n"
      ],
      "execution_count": null,
      "outputs": [
        {
          "output_type": "stream",
          "text": [
            "The solution of the system:\n",
            "[nan nan nan nan nan]\n"
          ],
          "name": "stdout"
        }
      ]
    },
    {
      "cell_type": "markdown",
      "metadata": {
        "id": "JKCS8rbDSE8f"
      },
      "source": [
        "### Activity 3.2\n",
        "Create a pseudocode and flowchart for the Gaussian Elimination method. You may use Eq. 3.2.1 to 3.2.3 for computational reference."
      ]
    },
    {
      "cell_type": "markdown",
      "metadata": {
        "id": "sF-ZVORJL9k8"
      },
      "source": [
        "## 3.3 Gauss-Jordan Elimination\n",
        "The Gauss-Jordan Elimination is quite similar to the Gauss elimination method. However, it differs in several aspects:\n",
        "* all elements above and below the main diagonal\n",
        "are eliminated to transform the coefficient matrix to the identity matrix $I_n$ and, accordingly, transform the constant terms vector to the solution vector.\n",
        "* for each pivot row, elimination operations are performed for all other rows above and below the pivot row. \n",
        "* no back-substitution is applied since at the end of the elimination,\n",
        "the constant term vector will be already transformed to the solution vector.\n",
        "\n",
        "The following are the steps in performing Gauss-Jordan Elimination:\n",
        "1. Performing partial pivoting by rearranging the rows of the system at each transformation to guarantee non-zero elements in the main diagonal of the coefficients matrix.\n",
        "2. Division of every row of the system (including constant term) by the pivot element of that row ($x_{kk}$). This step will transform the matrix into an identity matrix.\n",
        "3. Elimination of all elements above and below the main diagonal with applying the same operations on the constant terms vector. This algorithm requires the following three nested loops:\n",
        ">* The main loop of $k$ from row 1 to n to index the pivot rows. In this loop each element in the pivot row is divided by the pivot:\n",
        "$$x^*_{kj} = \\frac{x_{kj}}{x_{kk}}, b^*_k = \\frac{b_k}{x_{kk}}, k = 1,2,...,n, j=k,n$$\n",
        ">* The loop of $i$ from row $1$ to $n$ to index the subtraction rows. In order to avoid the subtraction of the pivot row from itself when $i$ is equal to $k$ or if the coefficient is already is equal to zero, the subtraction for current $i$ should be skipped.\n",
        ">*  The loop of j from k to n to index the columns for element subtraction starting from the pivot element to the last column of the coefficients matrix. Thus, the elimination statement is written as:\n",
        "$$x^*_{ij}=x_{ij}-x_{ik}x^*_{kj}$$\n",
        "and the new constant in the $i$ loop is:\n",
        "$$b^*_i=b_i-x_{ik}b^*_k$$\n",
        "Where, $k = 1,2,...,n i=1,2,...,n, i \\not=k$.\n",
        "\n",
        "\n"
      ]
    },
    {
      "cell_type": "code",
      "metadata": {
        "id": "8JEywa9IoWBg"
      },
      "source": [
        "X = test_systems['test1']['X']\n",
        "b = test_systems['test1']['b']\n",
        "n = b.size\n",
        "v = np.empty(n)"
      ],
      "execution_count": null,
      "outputs": []
    },
    {
      "cell_type": "code",
      "metadata": {
        "id": "KZVh0JsdMApM"
      },
      "source": [
        "def gssjrdn(X,b):\n",
        "  a = np.array(X, float)\n",
        "  b = np.array(b, float)\n",
        "  n = len(b)\n",
        "  for k in range(n):\n",
        "    #Partial Pivoting\n",
        "    if np.fabs(a[k,k]) < 1.0e-12:\n",
        "      for i in range(k+1,n):\n",
        "        if np.fabs(a[i,k]) > np.fabs(a[k,k]):\n",
        "          a[[k,i]] = a[[i,k]]\n",
        "          b[[k,i]] = b[[i,k]]\n",
        "          break\n",
        "    #Division of the pivot row\n",
        "    pivot = a[k,k]\n",
        "    a[k] /= pivot\n",
        "    b[k] /= pivot\n",
        "    #Elimination loop\n",
        "    for i in range(n):\n",
        "      if i == k or a[i,k] == 0: continue\n",
        "      factor = a[i,k]\n",
        "      a[i] -= factor * a[k]\n",
        "      b[i] -= factor * b[k]\n",
        "  return b,a"
      ],
      "execution_count": null,
      "outputs": []
    },
    {
      "cell_type": "code",
      "metadata": {
        "colab": {
          "base_uri": "https://localhost:8080/"
        },
        "id": "0eX5WTDlG70l",
        "outputId": "bb34889f-c3a7-48e2-ebaf-1531dc41197c"
      },
      "source": [
        "x,a = gssjrdn(X,b)\n",
        "\n",
        "print(\"The solution of the system:\")\n",
        "print(x)\n",
        "print(\"The coefficient matrix after transformation:\")\n",
        "print(a)"
      ],
      "execution_count": null,
      "outputs": [
        {
          "output_type": "stream",
          "text": [
            "The solution of the system:\n",
            "[0.44444444 0.55555556 0.66666667 0.22222222 0.22222222]\n",
            "The coefficient matrix after transformation:\n",
            "[[1. 0. 0. 0. 0.]\n",
            " [0. 1. 0. 0. 0.]\n",
            " [0. 0. 1. 0. 0.]\n",
            " [0. 0. 0. 1. 0.]\n",
            " [0. 0. 0. 0. 1.]]\n"
          ],
          "name": "stdout"
        }
      ]
    },
    {
      "cell_type": "markdown",
      "metadata": {
        "id": "o82lQAKqMAvM"
      },
      "source": [
        "## 3.4 Cramer's Rule\n",
        "Is an explicit formula for the solution of a system of linear equations with as many equations as unknowns, valid whenever the system has a unique solution. It expresses the solution in terms of the determinants of the (square) coefficient matrix and of matrices obtained from it by replacing one column by the vector of right hand sides of the equations.\n",
        "\n",
        "1. Set the coefficient matrix $X$ and the constants vector $b$.\n",
        "2. Initialize an empty array of unknowns $v$ with a length of $m$.\n",
        "3. For each element of $v$ their values are solved by:\n",
        ">* substituting the column of $X$ with $b$ corresponding to the index of the unknown element $v_i$, let this be matrix $C_i$.\n",
        ">* solve for $v_i$ by:\n",
        "$$v_i = \\frac{|C_i|}{|X|}$$"
      ]
    },
    {
      "cell_type": "code",
      "metadata": {
        "id": "81Etp-hQMJpV"
      },
      "source": [
        "X = test_systems['test1']['X']\n",
        "b = test_systems['test1']['b']"
      ],
      "execution_count": null,
      "outputs": []
    },
    {
      "cell_type": "code",
      "metadata": {
        "id": "Zv9Ur4BOh4Ce"
      },
      "source": [
        "def cramers(X,b):\n",
        "  n = b.size\n",
        "  v = np.empty(n)\n",
        "  for i in range(b.size):\n",
        "    C = X.copy()\n",
        "    C[:,i] = b\n",
        "    v[i] = np.linalg.det(C)/np.linalg.det(X)\n",
        "  return v\n"
      ],
      "execution_count": null,
      "outputs": []
    },
    {
      "cell_type": "code",
      "metadata": {
        "colab": {
          "base_uri": "https://localhost:8080/"
        },
        "id": "kL-lCZTlI422",
        "outputId": "c8e4a2a7-3244-4f02-c317-64a31d219a64"
      },
      "source": [
        "cramers(X,b)"
      ],
      "execution_count": null,
      "outputs": [
        {
          "output_type": "stream",
          "text": [
            "0.44444444444444464\n",
            "0.5555555555555557\n",
            "0.6666666666666671\n",
            "0.22222222222222188\n",
            "0.2222222222222225\n"
          ],
          "name": "stdout"
        },
        {
          "output_type": "execute_result",
          "data": {
            "text/plain": [
              "array([0.44444444, 0.55555556, 0.66666667, 0.22222222, 0.22222222])"
            ]
          },
          "metadata": {
            "tags": []
          },
          "execution_count": 53
        }
      ]
    },
    {
      "cell_type": "markdown",
      "metadata": {
        "id": "DKGMJ3fWMJuU"
      },
      "source": [
        "## 3.5 Cholesky Factorization\n",
        "\n",
        "LU decomposition of a matrix is the factorization of a given square matrix into two triangular matrices, one upper triangular matrix and one lower triangular matrix, such that the product of these two matrices gives the original matrix. It was introduced by Alan Turing in 1948, who also created the turing machine [[2]](https://www.geeksforgeeks.org/l-u-decomposition-system-linear-equations/).\n",
        "\n",
        "Given a linear equation:\n",
        "$$AX=B\\\\_{\\text{(Eq. 3.5.1)}}$$ it can be re-written as $$A = LU \\\\_{\\text{(Eq. 3.5.2)}}$$ whereas $L$ is a lower triangular matrix and $U$ is an upper triangular matrix. $L$ an $U$ are then called the decompositions of the matrix $A$. The decomposition can be illustrated as:\n",
        "$$\\begin{bmatrix}\n",
        "a_{11}&a_{12}&a_{13}\\\\\n",
        "a_{21}&a_{22}&a_{23}\\\\\n",
        "a_{31}&a_{32}&a_{33}\\\\\n",
        "\\end{bmatrix} =\n",
        "\\begin{bmatrix}\n",
        "1&0&0\\\\\n",
        "l_{21}&1&0\\\\\n",
        "l_{31}&l_{32}&1\\\\\n",
        "\\end{bmatrix} \\cdot\n",
        "\\begin{bmatrix}\n",
        "u_{11}&u_{12}&u_{13}\\\\\n",
        "0&u_{22}&u_{23}\\\\\n",
        "0&0&u_{33}\\\\\n",
        "\\end{bmatrix}\n",
        "\\\\ _{\\text{(Eq. 3.5.3)}}$$\n",
        "\n",
        "\n",
        "\n",
        "\n"
      ]
    },
    {
      "cell_type": "markdown",
      "metadata": {
        "id": "UUSAWj4XTbAq"
      },
      "source": [
        "### 3.5.1 Decomposition\n",
        "The **Cholesky decomposition** or **Cholesky factorization** is a decomposition of a symmetric and positive-definite matrix. The Cholesky decomposition is roughly twice as efficient as the LU decomposition for solving systems of linear equations.\n",
        "\n",
        "The Cholesky decomposition is a decomposition of the form $$A = LL^T$$ where $L$ is a lower triangular matrix with real and positive diagonal entries, and $L^T$ denotes the transpose of $L$.\n",
        "\n",
        "**Condition 1: Symmetry**\n",
        "To proceed with Cholesky's decomposition, the matrix should be symmetric. A matrix is said to be symmatric if it is a real square matrix $A$where:\n",
        "$$a_{ij}=a_{ji}, i=1,...,n, j=1,...,n\\\\ _{\\text{(Eq. 3.5.4)}}$$ or simply, a matrix is symmetric if it is equal to its transpose. \n",
        "$$A = A^T\\\\ _{\\text{(Eq. 3.5.5)}}$$ \n",
        "\n",
        "**Condition 2: Positive-Definite**\n",
        "A real symmetric matrix $A$ is positive definite if the eigenvalues of $A$ are positive.\n",
        "\n",
        "Once these conditions are met, we can then proceed with the Cholesky's Algorithm. The decomposed matrix can be solved by the following form:\n",
        "$$\\begin{bmatrix}\n",
        "a_{11}& & & sym.\\\\\n",
        "a_{21}&a_{22}& & \\\\\n",
        "a_{31}&a_{32}&a_{33}& \\\\\n",
        "a_{41}&a_{42}&a_{43}&a_{44}\\\\\n",
        "\\end{bmatrix} =\n",
        "\\begin{bmatrix}\n",
        "l^2_{11}& & & sym.\\\\\n",
        "l_{11}l_{21}& l_{21}^2+l_{22}^2 & & \\\\\n",
        "l_{11}l_{31}& l_{31}l_{21} + l_{32}l_{22} &l_{31}^2+l_{32}^2+l_{33}^2& \\\\\n",
        "l_{11}l_{41}& l_{41}l_{21} + l_{42}l_{22} & l_{41}l_{31} + l_{42}l_{32} + l_{43}l_{33} &l_{41}^2+l_{42}^2+l_{43}^2+l_{44}^2 \\\\\n",
        "\\end{bmatrix} \n",
        "\\\\ _{\\text{(Eq. 3.5.6)}}$$\n",
        "\n",
        "The algorithm can be shortened as:\n",
        "$$\\left\\{\n",
        "    \\begin{array}\\\\\n",
        "        l_{ij} = \\sqrt{a_{ij} - \\sum_{k=1}^{j-1}l_{ik}^2} & i = j\\\\\n",
        "        l_{ij} = \\frac{1}{l_{ij}} (a_{ij} - \\sum_{k=1}^{j-1}l_{ik}l_{jk}) & i \\not= j\n",
        "    \\end{array}\n",
        "\\right\\}i=j,...,n; j=1,...,n \n",
        "\\\\ _{\\text{(Eq. 3.5.7)}}$$\n"
      ]
    },
    {
      "cell_type": "code",
      "metadata": {
        "id": "OMJcJD65VmFM"
      },
      "source": [
        "X = test_systems['test4']['X']\n",
        "b = test_systems['test4']['b']"
      ],
      "execution_count": null,
      "outputs": []
    },
    {
      "cell_type": "code",
      "metadata": {
        "id": "jGm4e_c-MUYk"
      },
      "source": [
        "def cholesky(X):\n",
        "  a = np.array(X, float)\n",
        "  L = np.zeros_like(a)\n",
        "  n = np.shape(a)[0]\n",
        "  ## check for symmetry and positive-definite\n",
        "  if (X == X.T).all() and (np.linalg.eigvals(X) > 0).all():\n",
        "  \n",
        "  ## Cholesky decomposition\n",
        "    for j in range(n):\n",
        "      for i in range(j,n):\n",
        "        if i==j:\n",
        "          L[i,j] = np.sqrt(a[i,j]-np.sum(L[i,:]**2))\n",
        "        else:\n",
        "          L[i,j]= (a[i,j]-np.sum(L[i,:j]*L[j,:j]))/L[j,j]\n",
        "  else:\n",
        "    print(\"Cannot perform Cholesky Factorization.\")\n",
        "  return L"
      ],
      "execution_count": null,
      "outputs": []
    },
    {
      "cell_type": "code",
      "metadata": {
        "colab": {
          "base_uri": "https://localhost:8080/"
        },
        "id": "JketQe4JVvAm",
        "outputId": "b51480b4-a204-48f5-afe8-b32a6d1c2337"
      },
      "source": [
        "cholesky(X)"
      ],
      "execution_count": null,
      "outputs": [
        {
          "output_type": "execute_result",
          "data": {
            "text/plain": [
              "array([[ 2.28035085,  0.        ,  0.        ,  0.        ,  0.        ],\n",
              "       [ 1.31558703,  2.13757591,  0.        ,  0.        ,  0.        ],\n",
              "       [ 0.2192645 , -1.07058726,  2.60878631,  0.        ,  0.        ],\n",
              "       [ 0.43852901,  1.60138263, -0.5679783 ,  2.12618594,  0.        ],\n",
              "       [ 0.87705802, -0.5397919 ,  0.85472619,  1.67683543,  3.22444724]])"
            ]
          },
          "metadata": {
            "tags": []
          },
          "execution_count": 38
        }
      ]
    },
    {
      "cell_type": "markdown",
      "metadata": {
        "id": "kZPcJxFnSxbL"
      },
      "source": [
        "### 3.5.2 Forward Substitution\n",
        "\n",
        "$$\\begin{bmatrix}\n",
        "l_{11}&0&0&... & 0\\\\\n",
        "l_{21}&l_{22}&0&...&0 \\\\\n",
        "l_{31}&l_{32}&l_{33}&...&0 \\\\\n",
        "\\vdots&\\vdots&\\vdots&\\ddots&\\vdots\\\\\n",
        "l_{n1}&l_{n2}&l_{n3}&...&l_{nn}\\\\\n",
        "\\end{bmatrix} \n",
        "\\left\\{\n",
        "    \\begin{array}\\\\\n",
        "        y_1\\\\y_2\\\\y_3\\\\\\vdots\\\\y_n\n",
        "    \\end{array}\n",
        "\\right\\}=\n",
        "\\left\\{\n",
        "    \\begin{array}\\\\\n",
        "        b_1\\\\b_2\\\\b_3\\\\\\vdots\\\\b_n\n",
        "    \\end{array}\n",
        "\\right\\}\n",
        "\\\\ _{\\text{(Eq. 3.5.8)}}$$\n",
        "\n",
        "The algorithm is represented as:\n",
        "$$y_i = \\frac{1}{l_{ii}}(b_i - \\sum^{i-1}_{j=1}l_{ij}y_j), i = 1,2,...,n\\\\ _{\\text{(Eq. 3.5.9)}}$$"
      ]
    },
    {
      "cell_type": "markdown",
      "metadata": {
        "id": "vaS260i2VMzr"
      },
      "source": [
        "### 3.5.3 Backward Substitution\n",
        "$$\\begin{bmatrix}\n",
        "u_{1,1}&u_{1,2}&...&u_{1n-1}& u_{1,n}\\\\\n",
        "0&u_{2,2}&...&u_{2,n-1}& u_{2,n} \\\\\n",
        "\\vdots&\\vdots&\\vdots&\\ddots&\\vdots\\\\\n",
        "0&0&...&u_{n-1,n-1}&u_{n-1,n}\\\\\n",
        "0&0&...&0&u_{n,n}\\\\\n",
        "\\end{bmatrix} \n",
        "\\left\\{\n",
        "    \\begin{array}\\\\\n",
        "        x_1\\\\x_2\\\\\\vdots\\\\x_{n-1}\\\\x_n\n",
        "    \\end{array}\n",
        "\\right\\}=\n",
        "\\left\\{\n",
        "    \\begin{array}\\\\\n",
        "        y_1\\\\y_2\\\\\\vdots\\\\y_{n-1}\\\\y_n\n",
        "    \\end{array}\n",
        "\\right\\}\n",
        "\\\\ _{\\text{(Eq. 3.5.10)}}$$\n",
        "\n",
        "The algorithm is represented as:\n",
        "$$y_i = \\frac{1}{u_{ii}}(y_i - \\sum^{n}_{j=i+1}u_{ij}x_j), i = n,n-1,...,1\\\\ _{\\text{(Eq. 3.5.11)}}$$"
      ]
    },
    {
      "cell_type": "code",
      "metadata": {
        "id": "I12DgFCzSoWM"
      },
      "source": [
        "def solveLU(L,U,b):\n",
        "  L = "
      ],
      "execution_count": null,
      "outputs": []
    },
    {
      "cell_type": "markdown",
      "metadata": {
        "id": "G3cfZYs_MUSU"
      },
      "source": [
        "## 3.6 Jacobi's Method"
      ]
    },
    {
      "cell_type": "code",
      "metadata": {
        "id": "44J7r2y1MZy8"
      },
      "source": [
        ""
      ],
      "execution_count": null,
      "outputs": []
    },
    {
      "cell_type": "markdown",
      "metadata": {
        "id": "KmV2rF-zMZs8"
      },
      "source": [
        "## 3.7 Gauss-Siedel Method"
      ]
    },
    {
      "cell_type": "code",
      "metadata": {
        "id": "7q7x-KpFMeIU"
      },
      "source": [
        ""
      ],
      "execution_count": null,
      "outputs": []
    },
    {
      "cell_type": "markdown",
      "metadata": {
        "id": "TX_paBKtMdgd"
      },
      "source": [
        "## 3.8 Successive over-relacation (SOR) Method "
      ]
    },
    {
      "cell_type": "code",
      "metadata": {
        "id": "L6y6Dlw4Mr3e"
      },
      "source": [
        ""
      ],
      "execution_count": null,
      "outputs": []
    },
    {
      "cell_type": "markdown",
      "metadata": {
        "id": "bUd1A-a_DVgi"
      },
      "source": [
        "## References\n",
        "[1] S. Mandal. (2020) *Introduction to Systems of Linear Equations*. Elementary Linear Algebra. Unversity of Kansas, KA, USA. https://mandal.ku.edu/math290/FTwelveM290/chpterOne.pdf\n"
      ]
    },
    {
      "cell_type": "code",
      "metadata": {
        "id": "OfDLA99Nhixe"
      },
      "source": [
        ""
      ],
      "execution_count": null,
      "outputs": []
    },
    {
      "cell_type": "code",
      "metadata": {
        "id": "Rdtbj_C_epg4"
      },
      "source": [
        ""
      ],
      "execution_count": null,
      "outputs": []
    },
    {
      "cell_type": "code",
      "metadata": {
        "id": "BI_Tz6WGeq80"
      },
      "source": [
        ""
      ],
      "execution_count": null,
      "outputs": []
    }
  ]
}
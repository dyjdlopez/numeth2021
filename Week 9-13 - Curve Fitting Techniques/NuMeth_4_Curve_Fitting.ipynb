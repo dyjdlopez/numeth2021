{
  "nbformat": 4,
  "nbformat_minor": 0,
  "metadata": {
    "colab": {
      "name": "NuMeth 4- Curve Fitting.ipynb",
      "provenance": [],
      "authorship_tag": "ABX9TyO/NFpl9Iiorf2iiBvazZof",
      "include_colab_link": true
    },
    "kernelspec": {
      "name": "python3",
      "display_name": "Python 3"
    },
    "language_info": {
      "name": "python"
    }
  },
  "cells": [
    {
      "cell_type": "markdown",
      "metadata": {
        "id": "view-in-github",
        "colab_type": "text"
      },
      "source": [
        "<a href=\"https://colab.research.google.com/github/dyjdlopez/numeth2021/blob/main/Week%209-13%20-%20Curve%20Fitting%20Techniques/NuMeth_4_Curve_Fitting.ipynb\" target=\"_parent\"><img src=\"https://colab.research.google.com/assets/colab-badge.svg\" alt=\"Open In Colab\"/></a>"
      ]
    },
    {
      "cell_type": "markdown",
      "metadata": {
        "id": "bSW9oeS0e7SY"
      },
      "source": [
        "# Curve Fitting and Interpolation\n",
        "$_{\\text{©D.J. Lopez | 2021 | Computational Methods for Computer Engineers}}$\n",
        "\n",
        "Curve fitting is one of the most used algorithms for optmization expecially in business applications. The use of curve-fitting functions ranges from engineering and signal applications such as approximations and signal replication to business applications in forecasting and operations optimization. In this module, we will discuss the several techniques that can be used in curve fitting. Specifically, we will cover:\n",
        "\n",
        "* Linear Regression\n",
        "* Multiple Linear Regression\n",
        "* Least-Squares Method (Normal Equation Method)\n",
        "* Polynomial Regression\n",
        "* Metrics of Regression\n",
        "* Linear Interpolation\n",
        "* Lagrange Method\n",
        "* Newton's Method"
      ]
    },
    {
      "cell_type": "markdown",
      "metadata": {
        "id": "cIYfC2LKgn5v"
      },
      "source": [
        "## 4.1 Curves\n",
        "When talking about curves, it is not simply wavy lines or simple drawing elements. Rather in our course, we take curves as functions. In the previous lessons we have seen the graphs of the functions and we call them curves as well. But in this module, we are going to identify what is the function based on sets of data. We can use this for idnetifying missing data or creating approximation for new data considering the function we created. "
      ]
    },
    {
      "cell_type": "markdown",
      "metadata": {
        "id": "qzSpvtTogtcG"
      },
      "source": [
        "### 4.1.1 Extrapolation\n",
        "Extrapolation can be imagined as the appoximation of data beyond the dataset based on the given data,function, or curve describing a specific dataset. One method in data extrapolation that we will discuss in this course is regression."
      ]
    },
    {
      "cell_type": "markdown",
      "metadata": {
        "id": "WMtfpYTegv6-"
      },
      "source": [
        "### 4.1.2 Interpolation\n",
        "Interpolation similar to extrapolation approximates data based on existing data, function, or curve but rather finding data beyond the given set of data it finds more specific or missing data points within a dataset."
      ]
    },
    {
      "cell_type": "markdown",
      "metadata": {
        "id": "3Mg0RPdog0Yu"
      },
      "source": [
        "## 4.2 Extrapolation / Regression"
      ]
    },
    {
      "cell_type": "markdown",
      "metadata": {
        "id": "Afg0X7OwhFut"
      },
      "source": [
        "### 4.2.1 Linear Regression\n",
        "As the name suggests, linear regression tries to find the best fit straight line to a given dataset. This algorithm is one of the simplest yet most important alogorithm in regression since it is the foundation of many more complex regression techniques.\n",
        "\n",
        "The goal of this algorithm is finding a linear equation that would best describe a set of data. The equation to be used in finding that linear equation is function is given as:\n",
        "$$y = \\omega_0 + \\omega_1 X \\\\ _{\\text{(Eq. 4.1)}}$$\n",
        "Whereas $X$ is the dataset while $y$ is the corresponding values for each datapoint in $X$. The variable $\\omega$ is called the weight of the dataset consiting of $\\omega_0$ and $\\omega_1$. In other literature, $\\omega_0$ is called the bias term sometimes written as $b$. The following equations are used to solve for $\\omega_0$ and $\\omega_1$:\n",
        "$$\\omega_0 = \\frac{\\bar{y}*\\sum(x_i^2-\\bar{x})-\\sum(x_i*y_i)}{\\sum(x^2_i-n\\bar{x}^2)}\\\\ _{\\text{(Eq. 4.2)}}$$\n",
        "$$\\omega_1 = \\frac{\\sum(x_i*y_i)-\\bar{x}\\sum(y_i)}{\\sum(x^2_i-n\\bar{x}^2)}\\\\ _{\\text{(Eq. 4.2)}}$$\n"
      ]
    },
    {
      "cell_type": "code",
      "metadata": {
        "id": "_aWBqQrWZTJn"
      },
      "source": [
        "'''\n",
        "Since we are going to use datasets for this module, we will be generating dummy \n",
        "data with numpy. We will use as matplotlib for visualizing the results as well.\n",
        "'''\n",
        "import numpy as np\n",
        "import matplotlib.pyplot as plt"
      ],
      "execution_count": 1,
      "outputs": []
    },
    {
      "cell_type": "code",
      "metadata": {
        "colab": {
          "base_uri": "https://localhost:8080/",
          "height": 390
        },
        "id": "eePyeJ66bhje",
        "outputId": "651a03c5-2096-4a81-beed-f7e0c3f5bd7d"
      },
      "source": [
        "n = 10\n",
        "X = np.arange(0,n,1,dtype=np.float64)\n",
        "\n",
        "m = np.random.uniform(0.4,0.5,(n,))\n",
        "b = np.random.uniform(8,10,(n,))\n",
        "\n",
        "y = m*X+b \n",
        "\n",
        "print(f\"X: {X}\")\n",
        "print(f\"y: {y}\")\n",
        "print(f\"w1 approx = {m.mean()},w0 approx. = {b.mean()}\")\n",
        "\n",
        "plt.figure(figsize=(5,5))\n",
        "plt.grid()\n",
        "plt.scatter(X,y)\n",
        "plt.show()"
      ],
      "execution_count": 33,
      "outputs": [
        {
          "output_type": "stream",
          "text": [
            "X: [0. 1. 2. 3. 4. 5. 6. 7. 8. 9.]\n",
            "y: [ 9.34266029  9.42481365  9.83535149  9.90296078  9.83528789 11.48948032\n",
            " 11.2325178  12.52304899 12.56843626 12.9059298 ]\n",
            "w1 approx = 0.4533928441292202,w0 approx. = 8.889670961970694\n"
          ],
          "name": "stdout"
        },
        {
          "output_type": "display_data",
          "data": {
            "image/png": "[encoded data removed]",
            "text/plain": [
              "<Figure size 360x360 with 1 Axes>"
            ]
          },
          "metadata": {
            "tags": [],
            "needs_background": "light"
          }
        }
      ]
    },
    {
      "cell_type": "code",
      "metadata": {
        "colab": {
          "base_uri": "https://localhost:8080/"
        },
        "id": "1YsgSBrHnWd2",
        "outputId": "00277747-7748-47ec-cf2d-10d8fd408fa2"
      },
      "source": [
        "def linear_regressor(X,y):\n",
        "  n = X.size\n",
        "  w0 = (y.mean()*np.sum(X**2)-X.mean()*np.sum(X*y)) / (np.sum(X**2) - n*X.mean()**2)\n",
        "  w1 = (np.sum(X*y) - X.mean()*np.sum(y)) / (np.sum(X**2) - n*X.mean()**2)\n",
        "  return w0,w1\n",
        "w0,w1 = linear_regressor(X,y)\n",
        "print(\"Linear Regression Equation: y = {:.3f}x + {:.3f}\".format(w1, w0))"
      ],
      "execution_count": 42,
      "outputs": [
        {
          "output_type": "stream",
          "text": [
            "Linear Regression Equation: y = 0.443x + 8.911\n"
          ],
          "name": "stdout"
        }
      ]
    },
    {
      "cell_type": "code",
      "metadata": {
        "colab": {
          "base_uri": "https://localhost:8080/",
          "height": 320
        },
        "id": "mKp1iagOwrUG",
        "outputId": "dd85df5a-cbf9-47cc-813a-39e328772d27"
      },
      "source": [
        "## Plotting the Regression line\n",
        "def show_regline(X,y,w1,w0):\n",
        "  x_min, x_max = X.min() - 1, X.max() + 1\n",
        "  linex = np.linspace(x_min, x_max)\n",
        "  liney = w1*linex+w0\n",
        "  plt.figure(figsize=(5,5))\n",
        "  plt.grid()\n",
        "  plt.scatter(X,y)\n",
        "  plt.plot(linex, liney, c='red')\n",
        "  plt.show()\n",
        "show_regline(X,y,w1,w0)"
      ],
      "execution_count": 36,
      "outputs": [
        {
          "output_type": "display_data",
          "data": {
            "image/png": "[encoded data removed]",
            "text/plain": [
              "<Figure size 360x360 with 1 Axes>"
            ]
          },
          "metadata": {
            "tags": [],
            "needs_background": "light"
          }
        }
      ]
    },
    {
      "cell_type": "code",
      "metadata": {
        "colab": {
          "base_uri": "https://localhost:8080/",
          "height": 338
        },
        "id": "2nYumocqwDFM",
        "outputId": "56c360d7-6610-4d55-9796-418cb0a9b19d"
      },
      "source": [
        "def lin_reg(val,w0,w1):\n",
        "  return w1*val + w0\n",
        "print(lin_reg(10, w0, w1))\n",
        "X_new, y_new = X.copy(), y.copy()\n",
        "for i in range(10,16):\n",
        "  X_new = np.insert(X_new,-1, i)\n",
        "  y_new = np.insert(y_new,-1, lin_reg(i,w0,w1))\n",
        "show_regline(X_new, y_new, w1, w0)"
      ],
      "execution_count": 37,
      "outputs": [
        {
          "output_type": "stream",
          "text": [
            "13.3445865576548\n"
          ],
          "name": "stdout"
        },
        {
          "output_type": "display_data",
          "data": {
            "image/png": "[encoded data removed]",
            "text/plain": [
              "<Figure size 360x360 with 1 Axes>"
            ]
          },
          "metadata": {
            "tags": [],
            "needs_background": "light"
          }
        }
      ]
    },
    {
      "cell_type": "code",
      "metadata": {
        "colab": {
          "base_uri": "https://localhost:8080/",
          "height": 320
        },
        "id": "lh-gaR47zVw8",
        "outputId": "0cf42855-852e-488b-bc97-9a9f6b6a7068"
      },
      "source": [
        "np.random.seed(0)\n",
        "X_1 = np.arange(0, 20, 1)\n",
        "y_1 = X_1 - 2 * (X_1 ** 2) + 0.5 * (X_1 ** 3) + np.random.normal(-3, 3, 20)\n",
        "\n",
        "plt.figure(figsize=(5,5))\n",
        "plt.grid()\n",
        "plt.scatter(X_1, y_1)\n",
        "plt.show()"
      ],
      "execution_count": 46,
      "outputs": [
        {
          "output_type": "display_data",
          "data": {
            "image/png": "[encoded data removed]",
            "text/plain": [
              "<Figure size 360x360 with 1 Axes>"
            ]
          },
          "metadata": {
            "tags": [],
            "needs_background": "light"
          }
        }
      ]
    },
    {
      "cell_type": "code",
      "metadata": {
        "colab": {
          "base_uri": "https://localhost:8080/",
          "height": 320
        },
        "id": "KoqKojTiz3fe",
        "outputId": "efdfb066-15df-4637-b671-d1a3060a73b5"
      },
      "source": [
        "w0_q,w1_q = linear_regressor(X_1, y_1)\n",
        "show_regline(X_1,y_1,w0_q,w1_q) "
      ],
      "execution_count": 47,
      "outputs": [
        {
          "output_type": "display_data",
          "data": {
            "image/png": "[encoded data removed]",
            "text/plain": [
              "<Figure size 360x360 with 1 Axes>"
            ]
          },
          "metadata": {
            "tags": [],
            "needs_background": "light"
          }
        }
      ]
    },
    {
      "cell_type": "markdown",
      "metadata": {
        "id": "CPC1enDXhH9F"
      },
      "source": [
        "### 4.2.2 Multiple Linear Regression\n",
        "Multiple linear regression, as the name suggests uses more linear regressors in the algorithm. This can be used if there are more than one features to a dataset. The MLR can be formulated as:\n",
        "$$y = \\omega_0 + \\omega_1 x_1 + \\omega_2 x_2 + ... + \\omega_n x_n \\\\ _{\\text{(Eq. 4.4)}}$$\n",
        "Whereas $\\omega_0$ is the bias term while $\\omega_n$ are the weights or slopes of the features $x_n$. The simplest way to implement an MLR algorithm is looping over each feature and their dataset and compute the corresponding weights. In this course, we are going to implement vectorization in implementing MLR. So instead of hte linear equation in Eq. 4.4 we can re-form the equation to the matrix equation:\n",
        "$$y = \\omega X^T$$\n",
        "Whereas $\\omega$ is a vector that includes all the weights of the features $\\begin{bmatrix}\\omega_0 \\\\ \\omega_1 \\\\ \\omega_2 \\\\ \\vdots \\\\ \\omega_n\\end{bmatrix}$. While $X$ are the data of each feature vector $\\begin{bmatrix}1\\\\ x_1 \\\\ x_2 \\\\ \\vdots \\\\ x_n\\end{bmatrix}$.\n",
        "\n",
        "We will use the **Normal Equation** in solving MLR. The Normal equation uses the Least-Squares Cost function and is formulated as:\n",
        "$$\\theta = (X^TX)^{-1}X^Ty \\\\ _{\\text{(Eq. 4.5)}}$$\n",
        "Whereas $\\theta$ is the hypothesis or model to be created while $X$ represents the data vector and $y$ represents the labels or values corresponding to the data vector. The term $(X^TX)^{-1}$ is called the **pseudoinverse** or the **Moore-Penrose** matrix. The pseudoinverse of a matrix term of Eq. 4.5 assures that the data are normal or orthogonal. This helps check the property of Autocorrelation between the features of the data. The other properties of datasets that are safe for linear regression are Homoscedasticity, Non-multicollinearity, and Non-endogeneity. These properties will be discussed in depth in the Machine Learning Course of the AIDA Electives. \n"
      ]
    },
    {
      "cell_type": "code",
      "metadata": {
        "colab": {
          "base_uri": "https://localhost:8080/"
        },
        "id": "GOQVgwuxDwYN",
        "outputId": "7f58b407-5b9e-40a7-91ae-09f5b24d935a"
      },
      "source": [
        "X = np.array([\n",
        "              [1,2,3],\n",
        "              [7,3,2],\n",
        "              [9,6,10],\n",
        "])\n",
        "y = np.array([[4,3,8]]).T\n",
        "bias = np.ones(y.shape)\n",
        "X_train = np.append(bias,X, axis=1).T\n",
        "X_dot = X_train @ X_train.T\n",
        "pseudoinv = np.linalg.inv(X_dot)\n",
        "y_dot = X_train @ y\n",
        "theta = pseudoinv @ y_dot\n",
        "for i in range(len(theta)):\n",
        "  print(f\"w{i} : {float(theta[i])}\")"
      ],
      "execution_count": 69,
      "outputs": [
        {
          "output_type": "stream",
          "text": [
            "w0 : 12.0\n",
            "w1 : -0.5\n",
            "w2 : 2.0\n",
            "w3 : 1.0\n"
          ],
          "name": "stdout"
        }
      ]
    },
    {
      "cell_type": "markdown",
      "metadata": {
        "id": "_W6gawaQhLsV"
      },
      "source": [
        "### 4.2.3 SciPy Implementation"
      ]
    },
    {
      "cell_type": "markdown",
      "metadata": {
        "id": "SlLDXLtjhrdN"
      },
      "source": [
        "### 4.2.4 Metrics of Regression"
      ]
    },
    {
      "cell_type": "markdown",
      "metadata": {
        "id": "sVyZd4wghvou"
      },
      "source": [
        "#### Measures of Reliability"
      ]
    },
    {
      "cell_type": "markdown",
      "metadata": {
        "id": "txprQifkh_Q2"
      },
      "source": [
        "#### Measures of Error "
      ]
    },
    {
      "cell_type": "markdown",
      "metadata": {
        "id": "WROprEbQh5xV"
      },
      "source": [
        "## 4.3 Interpolation"
      ]
    },
    {
      "cell_type": "markdown",
      "metadata": {
        "id": "JHOHkoN2iLIs"
      },
      "source": [
        "### 4.3.1 Linear Interpolation"
      ]
    },
    {
      "cell_type": "markdown",
      "metadata": {
        "id": "Kevpanr1iOX-"
      },
      "source": [
        "### 4.3.2 Lagrange Method"
      ]
    },
    {
      "cell_type": "markdown",
      "metadata": {
        "id": "1GUdL5AViSAV"
      },
      "source": [
        "### 4.3.3 Newton's Method"
      ]
    },
    {
      "cell_type": "code",
      "metadata": {
        "id": "CnoklXSxhutt"
      },
      "source": [
        ""
      ],
      "execution_count": null,
      "outputs": []
    },
    {
      "cell_type": "code",
      "metadata": {
        "id": "9ikaYzB2ZQmg"
      },
      "source": [
        ""
      ],
      "execution_count": null,
      "outputs": []
    }
  ]
}
{
  "nbformat": 4,
  "nbformat_minor": 0,
  "metadata": {
    "colab": {
      "name": "NuMeth 6 - Numerical Integration",
      "provenance": [],
      "collapsed_sections": [],
      "authorship_tag": "ABX9TyMDHFUEbYavIjN8tRnXVHGv",
      "include_colab_link": true
    },
    "kernelspec": {
      "name": "python3",
      "display_name": "Python 3"
    },
    "language_info": {
      "name": "python"
    }
  },
  "cells": [
    {
      "cell_type": "markdown",
      "metadata": {
        "id": "view-in-github",
        "colab_type": "text"
      },
      "source": [
        "<a href=\"https://colab.research.google.com/github/dyjdlopez/numeth2021/blob/main/Week%2015%20-%20Numerical%20Integration/NuMeth_6_Numerical_Integration.ipynb\" target=\"_parent\"><img src=\"https://colab.research.google.com/assets/colab-badge.svg\" alt=\"Open In Colab\"/></a>"
      ]
    },
    {
      "cell_type": "markdown",
      "metadata": {
        "id": "eSi4C3xVZAaa"
      },
      "source": [
        "# Numerical Integration\n",
        "$_{\\text{©D.J. Lopez | 2021 | Computational Methods for Computer Engineers}}$\n",
        "\n",
        "Reviving your integral calculus classes, we will be implementing the fundamental concepts of integration to computational and numerical methods. Numerical integration or the quadrature greatly helps, again, with the field of optimziation and estimation. This module will cover:\n",
        "* The Trapezoidal Rule\n",
        "* Simpson's 1/4 Integration Rule\n",
        "* Simpson's 3/8 Integration Rule\n",
        "* Monte Carlo Simulations/Integration"
      ]
    },
    {
      "cell_type": "code",
      "metadata": {
        "id": "M4u-RMAgyhwo"
      },
      "source": [
        "import numpy as np"
      ],
      "execution_count": null,
      "outputs": []
    },
    {
      "cell_type": "markdown",
      "metadata": {
        "id": "byD6cW9Eyl1Q"
      },
      "source": [
        "## 6.1 Trapezoidal rule\n",
        "The concept behind the Trapezoidal rule is a good review on what is integration and how it can be converted to its numerical and computational implementation.\n",
        "\n",
        "Integration is usually defined as the area under a cruve or area of the function. Like the image below, integration is usually seen as the sum of the areas of the boxes (in this case trapezoids) that make up the area under the curve.\n",
        "\n",
        "![image](https://cdn1.byjus.com/wp-content/uploads/2019/11/Trapezoidal-rule.png)\n",
        "\n",
        "The Trapezoidal rule takes advantage of this concept by summing the areas of those trapezoids. If you would recall, the area of the Trapezoid is given as:\n",
        "$$A_{trapz}=\\frac{h(b-a)}{2} \\\\ _{\\text{(Eq. 6.1)}}$$\n",
        "Whereas $A_{trapz}$ is the area of a trapezoid, $a$ is the shorter base, $b$ is the longer base, and $h$ is the height of the Trapezoid. Use the image below as a visual reference.\n",
        "![image](https://upload.wikimedia.org/wikipedia/commons/thumb/1/11/Trapezoid.svg/1200px-Trapezoid.svg.png)\n",
        "In the trapezoidal rule, we can see that the trapezoids are right trapezoids. And we can formally construct the represtnative equation modelling the concept of the trapezoidal rule as:\n",
        "$$\\int^b_af(x)dx \\approx h\\left[ \\frac{f(x_0)+f(x_n)}{2} +\\sum^{n-1}_{i=1}f(x_i) \\right]\\\\ _{\\text{(Eq. 6.2)}}$$\n",
        "\n",
        "For our example, we will mode the equation:\n",
        "$$\\int^{\\frac{\\pi}{2}}_0x\\sin(x)dx = 1$$ and $$\\int^{10}_0x^2dx = \\frac{1000}{3}$$"
      ]
    },
    {
      "cell_type": "code",
      "metadata": {
        "id": "jbMcmHO1ynNY"
      },
      "source": [
        "f = lambda x : x*np.sin(x)"
      ],
      "execution_count": null,
      "outputs": []
    },
    {
      "cell_type": "code",
      "metadata": {
        "id": "6yWgmjyLytpg"
      },
      "source": [
        "a, b = 0, np.pi/2\n",
        "n = 5\n",
        "h = (b-a)/n\n",
        "A= (f(a)+f(b))/2\n",
        "for i in range(1,n):\n",
        "  A += f(a+i*h)\n",
        "S = h*A\n",
        "S"
      ],
      "execution_count": null,
      "outputs": []
    },
    {
      "cell_type": "code",
      "metadata": {
        "colab": {
          "base_uri": "https://localhost:8080/"
        },
        "id": "rTr29xw4zO0I",
        "outputId": "247aecd8-c2c3-4c95-ff26-48333bd33233"
      },
      "source": [
        "h*(0.5*(f(a)+f(b))+np.sum(f(a+h*np.arange(1,n))))"
      ],
      "execution_count": null,
      "outputs": [
        {
          "output_type": "execute_result",
          "data": {
            "text/plain": [
              "1.0082654169662284"
            ]
          },
          "metadata": {
            "tags": []
          },
          "execution_count": 19
        }
      ]
    },
    {
      "cell_type": "code",
      "metadata": {
        "id": "nt-snO710Dqk"
      },
      "source": [
        "def trapz_rule(func,lb,ub,size):\n",
        "  h = (ub-lb)/size\n",
        "  return h*(0.5*(func(lb)+func(ub))+np.sum(func(lb+h*np.arange(1,size))))"
      ],
      "execution_count": null,
      "outputs": []
    },
    {
      "cell_type": "code",
      "metadata": {
        "colab": {
          "base_uri": "https://localhost:8080/"
        },
        "id": "667aAvxb0c90",
        "outputId": "5f119f1e-b8a2-44db-83e1-fe98034c7137"
      },
      "source": [
        "f = lambda x: x**2\n",
        "sum = trapz_rule(f, 0,10,1e4)\n",
        "sum"
      ],
      "execution_count": null,
      "outputs": [
        {
          "output_type": "execute_result",
          "data": {
            "text/plain": [
              "333.333335"
            ]
          },
          "metadata": {
            "tags": []
          },
          "execution_count": 69
        }
      ]
    },
    {
      "cell_type": "markdown",
      "metadata": {
        "id": "iDz-ubSi2x7W"
      },
      "source": [
        "## Simpson's 1/3 Rule\n",
        "Simpson's 1/3 Rule, unlike the Trapezoidal Rule, computes more than 2 strips of trapezoids at a time. And rather than trapezoids, Simpson's 1/3 rule uses parabolas ($P(x)$) in approximating areas under the curve.\n",
        "\n",
        "![image](http://www.unistudyguides.com/images/thumb/4/44/Simpson%27s_13_Rule_Graph.PNG/300px-Simpson%27s_13_Rule_Graph.PNG)\n",
        "The Simpson's 1/3 Rule cane be formulated as:\n",
        "$$\\int^b_af(x)dx \\approx \\frac{(b-a)}{6}\\left(f(a)+4f\\frac{(a+b)}{2}+f(b)\\right)\\\\ _{\\text{(Eq. 6.3)}}$$\n",
        "It can be discretized as:\n",
        "$$\\int^b_af(x)dx \\approx \\frac{h}{3}\\left[f(x_0)+4*\\sum^{n-1}_{i\\in odd}+f(x_i)+2*\\sum^{n-2}_{i\\in even}+f(x_n)\\right]\\\\ _{\\text{(Eq. 6.4)}}$$"
      ]
    },
    {
      "cell_type": "code",
      "metadata": {
        "id": "9530LlYc2xVi"
      },
      "source": [
        "f = lambda x : x*np.sin(x)"
      ],
      "execution_count": null,
      "outputs": []
    },
    {
      "cell_type": "code",
      "metadata": {
        "colab": {
          "base_uri": "https://localhost:8080/"
        },
        "id": "VDEcI_f_221Z",
        "outputId": "8c441ae5-eb3f-4d5a-dd3d-ece3bd99ce79"
      },
      "source": [
        "a, b = 0, np.pi/2\n",
        "n = 6\n",
        "h = (b-a)/n\n",
        "A= (f(a)+f(b))\n",
        "for i in range(1,n,2):\n",
        "  A += 4*f(a+i*h)\n",
        "for i in range(2,n,2):\n",
        "  A += 2*f(a+i*h)\n",
        "S = h/3*(A)\n",
        "S"
      ],
      "execution_count": null,
      "outputs": [
        {
          "output_type": "execute_result",
          "data": {
            "text/plain": [
              "0.9999206314107351"
            ]
          },
          "metadata": {
            "tags": []
          },
          "execution_count": 50
        }
      ]
    },
    {
      "cell_type": "code",
      "metadata": {
        "id": "kp7eDJ0z4h7x"
      },
      "source": [
        "def simp_13(func,lb,ub,divs):\n",
        "  h = (ub-lb)/divs\n",
        "  A = (func(lb)+func(ub))+ \\\n",
        "            np.sum(4*func(lb+h*np.arange(1,divs,2)))+ \\\n",
        "            np.sum(2*func(lb+h*np.arange(2,divs,2)))\n",
        "  S = (h/3)*A\n",
        "  return S"
      ],
      "execution_count": null,
      "outputs": []
    },
    {
      "cell_type": "code",
      "metadata": {
        "colab": {
          "base_uri": "https://localhost:8080/"
        },
        "id": "ug97C0_93S2Y",
        "outputId": "8a4499f4-84ba-45f3-ff3e-7681ef98f2bb"
      },
      "source": [
        "h = lambda x: x**2\n",
        "sum = simp_13(h, 0,10,1e4)\n",
        "sum"
      ],
      "execution_count": null,
      "outputs": [
        {
          "output_type": "execute_result",
          "data": {
            "text/plain": [
              "333.3333333333333"
            ]
          },
          "metadata": {
            "tags": []
          },
          "execution_count": 72
        }
      ]
    },
    {
      "cell_type": "markdown",
      "metadata": {
        "id": "ganvCkCB7Itd"
      },
      "source": [
        "## Simpson's 3/8 Rule\n",
        "Simpson's 3/8 rule or Simpson's second rule is ismilar to the 1/3 rule but instead of having a parabolic or quadratic approximation, it uses a cubic approximation.\n",
        "\n",
        "$$\\int^b_af(x)dx \\approx \\frac{(b-a)}{8}\\left(f(a)+3f\\frac{(2a+b)}{3}+3f\\frac{(a+2b)}{3}+f(b)\\right)\\\\ _{\\text{(Eq. 6.5)}}$$\n",
        "It can be discretized as:\n",
        "$$\\int^b_af(x)dx \\approx \\frac{3h}{8}\\left[f(x_0)+3*\\sum^{n-1}_{i=1,4,7,..}+f(x_i)+3*\\sum^{n-2}_{i=2,5,8,..}+f(x_i)+2*\\sum^{n-3}_{i=3,6,9,..}+f(x_n)\\right]\\\\ _{\\text{(Eq. 6.6)}}$$"
      ]
    },
    {
      "cell_type": "code",
      "metadata": {
        "id": "WhMGoonH7IDd"
      },
      "source": [
        "def simp_38(func,lb,ub,divs):\n",
        "  h = (ub-lb)/divs\n",
        "  A = (func(lb)+func(ub))+ \\\n",
        "            np.sum(3*(func(lb+h*np.arange(1,divs,3))))+ \\\n",
        "            np.sum(3*(func(lb+h*np.arange(2,divs,3))))+ \\\n",
        "            np.sum(2*func(lb+h*np.arange(3,divs,3)))\n",
        "  S = (3*h/8)*A\n",
        "  return S"
      ],
      "execution_count": null,
      "outputs": []
    },
    {
      "cell_type": "code",
      "metadata": {
        "colab": {
          "base_uri": "https://localhost:8080/"
        },
        "id": "gw_fvh9V82Xf",
        "outputId": "762b9b87-4de6-402e-fcb8-89795d28519d"
      },
      "source": [
        "f = lambda x: x*np.sin(x)\n",
        "sum = simp_38(f, 0,np.pi/2,1e4)\n",
        "sum"
      ],
      "execution_count": null,
      "outputs": [
        {
          "output_type": "execute_result",
          "data": {
            "text/plain": [
              "0.9999383180566178"
            ]
          },
          "metadata": {
            "tags": []
          },
          "execution_count": 75
        }
      ]
    },
    {
      "cell_type": "code",
      "metadata": {
        "colab": {
          "base_uri": "https://localhost:8080/"
        },
        "id": "0IeZx6y38Ws5",
        "outputId": "bbb803dd-c867-40d6-ab03-5b494bb79226"
      },
      "source": [
        "h = lambda x: x**2\n",
        "sum = simp_38(h, 0,10,1e4)\n",
        "sum"
      ],
      "execution_count": null,
      "outputs": [
        {
          "output_type": "execute_result",
          "data": {
            "text/plain": [
              "333.30833583337505"
            ]
          },
          "metadata": {
            "tags": []
          },
          "execution_count": 76
        }
      ]
    },
    {
      "cell_type": "markdown",
      "metadata": {
        "id": "OSLWuQuG9HdT"
      },
      "source": [
        "## Monte Carlo Integration\n",
        "The Monte Carlo Simulation or integration uses a different approach in approximating the area under a curve or function. It differs from the Trapezoidal and Simpson's Rules since it does not use a polynomial for interpolating the curve. The Monte Carlo integration uses the idea of uniform random sampling in a given space and computes the samples that are under the curve of the equation. \n",
        "\n",
        "In this implementation, we will use the most vanilla version of the Monte Carlo integration. We will use the definition of the mean of a function given as:\n",
        "$$\\left<f(x)\\right> = \\frac{1}{(b-a)}\\int^b_af(x)dx \\\\ _{\\text{(Eq. 6.7)}}$$\n",
        "We can then perform algebraic manipulation to solve to isolate the integral of the function:\n",
        "$$(b-a)\\left<f(x)\\right> = \\int^b_af(x)dx \\\\ _{\\text{(Eq. 6.8)}}$$\n",
        "Then by the definition of means we can use the discretized mean formula and substitute it with $\\left< f(x) \\right>$:\n",
        "$$(b-a)\\frac{1}{N}\\sum^N_{i=0}f(x_i) \\approx \\int^b_af(x)dx \\\\ _{\\text{(Eq. 6.9)}}$$\n"
      ]
    },
    {
      "cell_type": "code",
      "metadata": {
        "colab": {
          "base_uri": "https://localhost:8080/"
        },
        "id": "JhnTnVU49Jr7",
        "outputId": "53c264eb-bb6b-4832-8293-efd70467c252"
      },
      "source": [
        "a, b = 0, np.pi/2`\n",
        "n = 1e3\n",
        "samples = np.random.uniform(a,b,int(n))\n",
        "f = lambda x: x*np.sin(x)\n",
        "A = np.sum(f(samples))\n",
        "S = (b-a)/n)\n",
        "S"
      ],
      "execution_count": null,
      "outputs": [
        {
          "output_type": "execute_result",
          "data": {
            "text/plain": [
              "0.985238180918697"
            ]
          },
          "metadata": {
            "tags": []
          },
          "execution_count": 82
        }
      ]
    },
    {
      "cell_type": "markdown",
      "metadata": {
        "id": "1O2883pNvGVO"
      },
      "source": [
        "# End of Module Activity\n",
        "$\\text{Use another notebook to answer the following problems and create a report for the activities in this notebook.}$"
      ]
    },
    {
      "cell_type": "markdown",
      "metadata": {
        "id": "-JrhhsDbu0SV"
      },
      "source": [
        "1.) Research on the different numerical integration functions implemented in `scipy`. Explain in your report the function/s with three (3) different functions as examples.\n",
        "\n",
        "2.) Create numerical integration of two sample cases for each of the following functions: higher-order polynomials (degrees greater than 4), trigonometric functions, and logarithmic functions.\n",
        "> a.) Implement the numerical integration techniques used in this notebook including the `scipy` function/s.\n",
        "\n",
        "> b.) Measure and compare the errors of each integration technique to the functions you have created.\n",
        "\n",
        "3.) Research on the \"Law of Big Numbers\" and explain the law through:\n",
        "> a.) Testing Simpson's 3/8 Rule by initializing the bin sizes to be arbitrarily large. Run this for 100 iterations while decreasing the bin sizes by a factor of 100. Graph the errors using `matplotlib`.\n",
        "\n",
        "> b.) Testing the Monte Carlo Simulation with initializing the sample size from an arbitrarily small size. Run this for 100 iterations while increasing the sample sizes by a factor of 100. Graph the errors using `matplotlib`.\n"
      ]
    },
    {
      "cell_type": "code",
      "metadata": {
        "id": "78XPuPDhK7F4"
      },
      "source": [
        ""
      ],
      "execution_count": null,
      "outputs": []
    }
  ]
}
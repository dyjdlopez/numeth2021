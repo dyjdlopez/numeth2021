{
  "nbformat": 4,
  "nbformat_minor": 0,
  "metadata": {
    "colab": {
      "name": "Root Finding Samples",
      "provenance": [],
      "collapsed_sections": [],
      "authorship_tag": "ABX9TyOeWUGeDRhnNyTvp0aW3CrG",
      "include_colab_link": true
    },
    "kernelspec": {
      "name": "python3",
      "display_name": "Python 3"
    }
  },
  "cells": [
    {
      "cell_type": "markdown",
      "metadata": {
        "id": "view-in-github",
        "colab_type": "text"
      },
      "source": [
        "<a href=\"https://colab.research.google.com/github/dyjdlopez/numeth2021/blob/main/Week%206%20-%20Exercises/Root_Finding_Samples.ipynb\" target=\"_parent\"><img src=\"https://colab.research.google.com/assets/colab-badge.svg\" alt=\"Open In Colab\"/></a>"
      ]
    },
    {
      "cell_type": "code",
      "metadata": {
        "id": "u4zLSS4xfsG2"
      },
      "source": [
        "import numpy as np\r\n",
        "import scipy.optimize as opt\r\n",
        "import "
      ],
      "execution_count": null,
      "outputs": []
    },
    {
      "cell_type": "code",
      "metadata": {
        "id": "QwRUm1cvMOxp"
      },
      "source": [
        "sample1 = lambda x: 2*x**4 + 3*x**3 - 11*x**2 - 9*x + 15\r\n",
        "#answer [-2.5   , -1.7321,  1.    ,  1.7321]\r\n",
        "sample2 = lambda x: np.sin(2*x)-np.cos(2*x) ## range at 0-2pi\r\n",
        "#answer [0.3927, 1.9635, 3.5343, 5.1051, 8.2467]\r\n",
        "sample3 = lambda x: np.log(x**2+1) ##np.log is equivalent to ln\r\n",
        "#answer [0]\r\n",
        "sample4 = lambda x: np.log(x**2-2*x-1)*(x**2-3)\r\n",
        "#answer [-1.732, -0.732, 2.732]"
      ],
      "execution_count": null,
      "outputs": []
    },
    {
      "cell_type": "markdown",
      "metadata": {
        "id": "TjfwfhVQiMCC"
      },
      "source": [
        "For analytical solutions you can try to use the optimize methods in SciPy or through visual analysis by using graphing tools such as matplotlib or [desmos calculator](https://https://www.desmos.com/calculator). "
      ]
    }
  ]
}